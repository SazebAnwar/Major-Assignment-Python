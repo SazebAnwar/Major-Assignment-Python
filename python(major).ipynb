{
 "cells": [
  {
   "cell_type": "code",
   "execution_count": 4,
   "id": "682e7dc3",
   "metadata": {},
   "outputs": [
    {
     "name": "stdout",
     "output_type": "stream",
     "text": [
      "x is <class 'int'>\n",
      "y is <class 'str'>\n"
     ]
    }
   ],
   "source": [
    "#1.Find the datatype of these two declaration :\n",
    "\n",
    "x =5\n",
    "y =\"John\"\n",
    "print(\"x is\", type(x))\n",
    "print(\"y is\", type(y))"
   ]
  },
  {
   "cell_type": "code",
   "execution_count": null,
   "id": "5084c0a5",
   "metadata": {},
   "outputs": [],
   "source": [
    "#2.Check whether the following syntax is valid or invalid for naming avariable.\n",
    "\n",
    "i.3a=10         #invalid\n",
    "ii.@abc=10      #invalid\n",
    "iii.a100=100    #valid \n",
    "iv._a984_=100   #valid\n",
    "v.a9967$=100    #invalid\n",
    "vi.xyz-2=100    #invalid\n"
   ]
  },
  {
   "cell_type": "code",
   "execution_count": 2,
   "id": "b4f217ca",
   "metadata": {},
   "outputs": [
    {
     "name": "stdout",
     "output_type": "stream",
     "text": [
      "3 exist\n",
      "9 not exist\n"
     ]
    }
   ],
   "source": [
    "#3.Check if element exists in list in Python :list = test_list = [1, 6, 3, 5, 3, 4]\n",
    "\n",
    "list=[ 1, 6, 3, 5, 3, 4 ]\n",
    "i=3\n",
    "j=9\n",
    "\n",
    "if i in list:\n",
    "    print(i, \"exist\")\n",
    "else:\n",
    "    print(i, \"not exist\")\n",
    "if j in list:\n",
    "    print(j, \"exist\")\n",
    "else:\n",
    "    print(j, \"not exist\")"
   ]
  },
  {
   "cell_type": "code",
   "execution_count": 5,
   "id": "062536de",
   "metadata": {},
   "outputs": [
    {
     "name": "stdout",
     "output_type": "stream",
     "text": [
      "current date is: 2022-11-22\n"
     ]
    }
   ],
   "source": [
    "#4.Take the user input to print the current date.\n",
    "\n",
    "from datetime import date\n",
    "\n",
    "today = date.today()\n",
    "print(\"current date is:\", today)"
   ]
  },
  {
   "cell_type": "code",
   "execution_count": 6,
   "id": "1e2da343",
   "metadata": {},
   "outputs": [
    {
     "name": "stdout",
     "output_type": "stream",
     "text": [
      "4\n",
      "1\n"
     ]
    }
   ],
   "source": [
    "#5.what is the output of the following code :\n",
    "#a.print 9//2\n",
    "#b.print 9%2\n",
    "\n",
    "print(9//2)\n",
    "print(9%2)"
   ]
  },
  {
   "cell_type": "code",
   "execution_count": 7,
   "id": "c5035af4",
   "metadata": {},
   "outputs": [
    {
     "name": "stdout",
     "output_type": "stream",
     "text": [
      "1\n",
      "2\n",
      "3\n",
      "4\n",
      "5\n",
      "6\n",
      "7\n",
      "8\n",
      "9\n",
      "10\n"
     ]
    }
   ],
   "source": [
    "#6.Print First 10 natural numbers using a while loop.\n",
    "\n",
    "i=1\n",
    "while(i<=10):\n",
    "    print(i)\n",
    "    i=i+1"
   ]
  },
  {
   "cell_type": "code",
   "execution_count": 9,
   "id": "c2ac11d2",
   "metadata": {},
   "outputs": [
    {
     "name": "stdout",
     "output_type": "stream",
     "text": [
      "Number: 10\n",
      "55\n"
     ]
    }
   ],
   "source": [
    "#7.Write a program to accept a number from a user and calculate the sum of all numbers from 1 to a given number.\n",
    "\n",
    "number = int(input(\"Number: \"))\n",
    "sum = 0\n",
    "for i in range(1, number + 1):\n",
    "    sum += i\n",
    "print(sum)"
   ]
  },
  {
   "cell_type": "code",
   "execution_count": 17,
   "id": "2ac5d374",
   "metadata": {},
   "outputs": [
    {
     "name": "stdout",
     "output_type": "stream",
     "text": [
      "FizzBuzz\n",
      "FizzBuzz\n",
      "1\n",
      "2\n",
      "Fizz\n",
      "4\n",
      "Buzz\n",
      "Fizz\n",
      "7\n",
      "8\n",
      "Fizz\n",
      "Buzz\n",
      "11\n",
      "Fizz\n",
      "13\n",
      "14\n",
      "FizzBuzz\n",
      "16\n",
      "17\n",
      "Fizz\n",
      "19\n",
      "Buzz\n",
      "Fizz\n",
      "22\n",
      "23\n",
      "Fizz\n",
      "Buzz\n",
      "26\n",
      "Fizz\n",
      "28\n",
      "29\n",
      "FizzBuzz\n",
      "31\n",
      "32\n",
      "Fizz\n",
      "34\n",
      "Buzz\n",
      "Fizz\n",
      "37\n",
      "38\n",
      "Fizz\n",
      "Buzz\n",
      "41\n",
      "Fizz\n",
      "43\n",
      "44\n",
      "FizzBuzz\n",
      "46\n",
      "47\n",
      "Fizz\n",
      "49\n",
      "Buzz\n"
     ]
    }
   ],
   "source": [
    "#8.\"Write a Python program which iterates the integers from 1 to 50. For multiples of three print \"Fizz\" instead of the number and for the multiples of five print \"Buzz\". For numbers which are multiples of both three and five print \"FizzBuzz\".\n",
    "\n",
    "T = (0,50)\n",
    "\n",
    "for i in T:\n",
    "    N = int(i)\n",
    "    for number in range(N+1):\n",
    "        if number % 15 == 0:\n",
    "            print(\"FizzBuzz\")\n",
    "        elif number % 5 == 0:\n",
    "            print(\"Buzz\")\n",
    "        elif number % 3 == 0:\n",
    "            print(\"Fizz\")\n",
    "        else:\n",
    "            print(number)"
   ]
  },
  {
   "cell_type": "code",
   "execution_count": null,
   "id": "c64d02e3",
   "metadata": {},
   "outputs": [],
   "source": []
  }
 ],
 "metadata": {
  "kernelspec": {
   "display_name": "Python 3 (ipykernel)",
   "language": "python",
   "name": "python3"
  },
  "language_info": {
   "codemirror_mode": {
    "name": "ipython",
    "version": 3
   },
   "file_extension": ".py",
   "mimetype": "text/x-python",
   "name": "python",
   "nbconvert_exporter": "python",
   "pygments_lexer": "ipython3",
   "version": "3.9.12"
  }
 },
 "nbformat": 4,
 "nbformat_minor": 5
}
